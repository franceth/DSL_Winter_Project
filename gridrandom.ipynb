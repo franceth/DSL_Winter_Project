{
 "cells": [
  {
   "cell_type": "code",
   "execution_count": 1,
   "metadata": {},
   "outputs": [],
   "source": [
    "import numpy as np\n",
    "import pandas as pd\n",
    "import matplotlib.pyplot as plt\n",
    "from sklearn.model_selection import train_test_split\n",
    "from sklearn.ensemble import RandomForestRegressor\n",
    "from sklearn.neighbors import KNeighborsRegressor\n",
    "from sklearn.metrics.pairwise import paired_distances\n",
    "from sklearn.preprocessing import StandardScaler\n",
    "import csv\n",
    "from sklearn.model_selection import GridSearchCV\n",
    "from sklearn.metrics._scorer import make_scorer\n",
    "from sklearn.svm import SVR\n",
    "from sklearn.multioutput import MultiOutputRegressor\n",
    "from sklearn.tree import DecisionTreeRegressor\n",
    "from sklearn.model_selection import KFold\n",
    "from sklearn.model_selection import ParameterGrid\n",
    "from scipy.stats import zscore"
   ]
  },
  {
   "cell_type": "code",
   "execution_count": 2,
   "metadata": {},
   "outputs": [],
   "source": [
    "def custom_loss_func(ground_truth, predictions):\n",
    "     return np.sum(paired_distances(ground_truth, predictions))/len(ground_truth)"
   ]
  },
  {
   "cell_type": "code",
   "execution_count": 3,
   "metadata": {},
   "outputs": [],
   "source": [
    "from sklearn.feature_selection import SelectKBest, f_classif\n",
    "df = pd.read_csv('development.csv', sep=',')"
   ]
  },
  {
   "cell_type": "code",
   "execution_count": 4,
   "metadata": {},
   "outputs": [],
   "source": [
    "noise_pmax = []\n",
    "noise_negpmax = []\n",
    "noise_area = []#4.7\n",
    "noise_tmax = []\n",
    "noise_rms = []\n",
    "noise_vpp = []\n",
    "noise_slewrate = []\n",
    "pmax = [f'pmax[{i}]' for i in range(18)]\n",
    "negpmax = [f'negpmax[{i}]' for i in range(18)]\n",
    "for i in range(0,18):\n",
    "    df[f\"vpp[{i}]\"] = (df[f\"pmax[{i}]\"] - df[f\"negpmax[{i}]\"])\n",
    "df = df[df['negpmax[1]'] < 0]\n",
    "df = df[df['negpmax[2]'] < 0]\n",
    "df = df[df['negpmax[3]'] < 0]\n",
    "df = df[df['negpmax[4]'] < 0]\n",
    "df = df[df['negpmax[5]'] < 0]\n",
    "df = df[df['negpmax[6]'] < 0]\n",
    "df = df[df['negpmax[8]'] < 0]\n",
    "df = df[df['negpmax[9]'] < 0]\n",
    "df = df[df['negpmax[10]'] < 0]\n",
    "df = df[df['negpmax[11]'] < 0]\n",
    "df = df[df['negpmax[13]'] < 0]\n",
    "df = df[df['negpmax[14]'] < 0]\n",
    "df = df[df['negpmax[15]'] < 0]\n",
    "for i in [0, 7, 12, 16, 17]: \n",
    "    noise_pmax.append(f'pmax[{i}]')\n",
    "    noise_area.append(f'area[{i}]')\n",
    "    noise_area.append(f'negpmax[{i}]')\n",
    "    noise_vpp.append(f'vpp[{i}]')\n",
    "for i in range(0, 18): \n",
    "    noise_rms.append(f'rms[{i}]')\n",
    "    noise_tmax.append(f'tmax[{i}]')\n",
    "noise = noise_pmax + noise_negpmax + noise_area + noise_tmax + noise_rms+ noise_vpp + noise_slewrate\n",
    "df.drop(columns=noise, inplace=True)\n",
    "y = df[['x','y']].values\n",
    "df.drop(columns=['x','y'], inplace=True)"
   ]
  },
  {
   "cell_type": "code",
   "execution_count": 5,
   "metadata": {},
   "outputs": [],
   "source": [
    "df_eval = pd.read_csv('evaluation.csv', sep=',')\n",
    "for i in range(0,18):\n",
    "    df_eval[f\"vpp[{i}]\"] = (df_eval[f\"pmax[{i}]\"] - df_eval[f\"negpmax[{i}]\"])\n",
    "df_eval.drop(columns=noise, inplace=True)\n",
    "df = df.sample(frac=1).reset_index(drop=True)\n",
    "X_train_valid = df.values\n",
    "y_train_valid = y\n",
    "X_test = df_eval.drop(columns='Id').values\n",
    "\n",
    "#X_train_valid, X_valid, y_train_valid, y_valid = train_test_split(df, y, test_size=0.2, random_state=42, shuffle=True)"
   ]
  },
  {
   "cell_type": "code",
   "execution_count": 6,
   "metadata": {},
   "outputs": [
    {
     "name": "stdout",
     "output_type": "stream",
     "text": [
      "-174.69551799415845\n",
      "{'criterion': 'squared_error', 'max_features': 'sqrt', 'n_estimators': 200, 'n_jobs': -1, 'random_state': 42}\n",
      "RandomForestRegressor(max_features='sqrt', n_estimators=200, n_jobs=-1,\n",
      "                      random_state=42)\n"
     ]
    }
   ],
   "source": [
    "custom_scorer = make_scorer(custom_loss_func, greater_is_better=False)\n",
    "param_grid = {'n_estimators': [50, 100, 200],\n",
    "              'criterion': ['squared_error'],\n",
    "              'max_features': ['sqrt', 'log2'],\n",
    "              'random_state': [42],\n",
    "              'n_jobs': [-1]      \n",
    "}\n",
    "gs = GridSearchCV(RandomForestRegressor(), param_grid, scoring=custom_scorer, n_jobs=-1, cv=5)\n",
    "gs.fit(X_train_valid, y_train_valid)\n",
    "print(gs.best_score_)  \n",
    "print(gs.best_params_)  # {'criterion': 'squared_error', 'max_features': 'sqrt', 'n_estimators': 50, 'n_jobs': -1, 'random_state': 42}\n",
    "print(gs.best_estimator_)\n",
    "y_pred = gs.predict(X_test)\n",
    "#print(f'Metric value: {custom_loss_func(y_test, y_pred)}') # Metric value: 4.742701679372149"
   ]
  }
 ],
 "metadata": {
  "kernelspec": {
   "display_name": "Python 3",
   "language": "python",
   "name": "python3"
  },
  "language_info": {
   "codemirror_mode": {
    "name": "ipython",
    "version": 3
   },
   "file_extension": ".py",
   "mimetype": "text/x-python",
   "name": "python",
   "nbconvert_exporter": "python",
   "pygments_lexer": "ipython3",
   "version": "3.10.11"
  }
 },
 "nbformat": 4,
 "nbformat_minor": 2
}
